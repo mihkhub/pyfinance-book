{
 "cells": [
  {
   "cell_type": "code",
   "execution_count": 1,
   "metadata": {
    "collapsed": false
   },
   "outputs": [
    {
     "name": "stderr",
     "output_type": "stream",
     "text": [
      "/home/testbed/anaconda2/lib/python2.7/site-packages/pandas/io/data.py:35: FutureWarning: \n",
      "The pandas.io.data module is moved to a separate package (pandas-datareader) and will be removed from pandas in a future version.\n",
      "After installing the pandas-datareader package (https://github.com/pydata/pandas-datareader), you can change the import ``from pandas.io import data, wb`` to ``from pandas_datareader import data, wb``.\n",
      "  FutureWarning)\n"
     ]
    }
   ],
   "source": [
    " # At the time of this, pandas supports the following data sources:\n",
    "# Google Finance (google)\n",
    "# St. Louis FED (fred)\n",
    "# Kenneth French's data library (famafrench)\n",
    "# World Bank (via pandas.io.wb)\n",
    "import pandas.io.data as web\n",
    "import numpy as np\n",
    "# Notice\n",
    "%matplotlib inline "
   ]
  },
  {
   "cell_type": "code",
   "execution_count": 2,
   "metadata": {
    "collapsed": false
   },
   "outputs": [],
   "source": [
    "DAX = web.DataReader(name='^GDAXI', data_source='yahoo', start='2000-1-1')"
   ]
  },
  {
   "cell_type": "code",
   "execution_count": 3,
   "metadata": {
    "collapsed": false
   },
   "outputs": [
    {
     "name": "stdout",
     "output_type": "stream",
     "text": [
      "<class 'pandas.core.frame.DataFrame'>\n",
      "DatetimeIndex: 4347 entries, 2000-01-03 to 2017-01-23\n",
      "Data columns (total 6 columns):\n",
      "Open         4347 non-null float64\n",
      "High         4347 non-null float64\n",
      "Low          4347 non-null float64\n",
      "Close        4347 non-null float64\n",
      "Volume       4347 non-null int64\n",
      "Adj Close    4347 non-null float64\n",
      "dtypes: float64(5), int64(1)\n",
      "memory usage: 237.7 KB\n"
     ]
    }
   ],
   "source": [
    "DAX.info()"
   ]
  },
  {
   "cell_type": "code",
   "execution_count": 4,
   "metadata": {
    "collapsed": false
   },
   "outputs": [
    {
     "data": {
      "text/html": [
       "<div>\n",
       "<table border=\"1\" class=\"dataframe\">\n",
       "  <thead>\n",
       "    <tr style=\"text-align: right;\">\n",
       "      <th></th>\n",
       "      <th>Open</th>\n",
       "      <th>High</th>\n",
       "      <th>Low</th>\n",
       "      <th>Close</th>\n",
       "      <th>Volume</th>\n",
       "      <th>Adj Close</th>\n",
       "    </tr>\n",
       "    <tr>\n",
       "      <th>Date</th>\n",
       "      <th></th>\n",
       "      <th></th>\n",
       "      <th></th>\n",
       "      <th></th>\n",
       "      <th></th>\n",
       "      <th></th>\n",
       "    </tr>\n",
       "  </thead>\n",
       "  <tbody>\n",
       "    <tr>\n",
       "      <th>2017-01-17</th>\n",
       "      <td>11521.500000</td>\n",
       "      <td>11583.429688</td>\n",
       "      <td>11425.139648</td>\n",
       "      <td>11540.000000</td>\n",
       "      <td>0</td>\n",
       "      <td>11540.000000</td>\n",
       "    </tr>\n",
       "    <tr>\n",
       "      <th>2017-01-18</th>\n",
       "      <td>11592.120117</td>\n",
       "      <td>11599.389648</td>\n",
       "      <td>11529.759766</td>\n",
       "      <td>11599.389648</td>\n",
       "      <td>79838900</td>\n",
       "      <td>11599.389648</td>\n",
       "    </tr>\n",
       "    <tr>\n",
       "      <th>2017-01-19</th>\n",
       "      <td>11624.110352</td>\n",
       "      <td>11644.879883</td>\n",
       "      <td>11578.910156</td>\n",
       "      <td>11596.889648</td>\n",
       "      <td>89132300</td>\n",
       "      <td>11596.889648</td>\n",
       "    </tr>\n",
       "    <tr>\n",
       "      <th>2017-01-20</th>\n",
       "      <td>11568.900391</td>\n",
       "      <td>11636.790039</td>\n",
       "      <td>11547.040039</td>\n",
       "      <td>11630.129883</td>\n",
       "      <td>0</td>\n",
       "      <td>11630.129883</td>\n",
       "    </tr>\n",
       "    <tr>\n",
       "      <th>2017-01-23</th>\n",
       "      <td>11545.969727</td>\n",
       "      <td>11605.290039</td>\n",
       "      <td>11508.830078</td>\n",
       "      <td>11545.750000</td>\n",
       "      <td>77901600</td>\n",
       "      <td>11545.750000</td>\n",
       "    </tr>\n",
       "  </tbody>\n",
       "</table>\n",
       "</div>"
      ],
      "text/plain": [
       "                    Open          High           Low         Close    Volume  \\\n",
       "Date                                                                           \n",
       "2017-01-17  11521.500000  11583.429688  11425.139648  11540.000000         0   \n",
       "2017-01-18  11592.120117  11599.389648  11529.759766  11599.389648  79838900   \n",
       "2017-01-19  11624.110352  11644.879883  11578.910156  11596.889648  89132300   \n",
       "2017-01-20  11568.900391  11636.790039  11547.040039  11630.129883         0   \n",
       "2017-01-23  11545.969727  11605.290039  11508.830078  11545.750000  77901600   \n",
       "\n",
       "               Adj Close  \n",
       "Date                      \n",
       "2017-01-17  11540.000000  \n",
       "2017-01-18  11599.389648  \n",
       "2017-01-19  11596.889648  \n",
       "2017-01-20  11630.129883  \n",
       "2017-01-23  11545.750000  "
      ]
     },
     "execution_count": 4,
     "metadata": {},
     "output_type": "execute_result"
    }
   ],
   "source": [
    "DAX.tail()"
   ]
  },
  {
   "cell_type": "code",
   "execution_count": 5,
   "metadata": {
    "collapsed": false,
    "scrolled": true
   },
   "outputs": [
    {
     "data": {
      "text/plain": [
       "<matplotlib.axes._subplots.AxesSubplot at 0x7fba0432c350>"
      ]
     },
     "execution_count": 5,
     "metadata": {},
     "output_type": "execute_result"
    },
    {
     "data": {
      "image/png": "[encoded data removed]",
      "text/plain": [
       "<matplotlib.figure.Figure at 0x7fba054ee7d0>"
      ]
     },
     "metadata": {},
     "output_type": "display_data"
    }
   ],
   "source": [
    "DAX['Close'].plot(figsize=(8,5))"
   ]
  },
  {
   "cell_type": "code",
   "execution_count": 6,
   "metadata": {
    "collapsed": false
   },
   "outputs": [
    {
     "name": "stderr",
     "output_type": "stream",
     "text": [
      "/home/testbed/anaconda2/lib/python2.7/site-packages/ipykernel/__main__.py:3: SettingWithCopyWarning: \n",
      "A value is trying to be set on a copy of a slice from a DataFrame\n",
      "\n",
      "See the caveats in the documentation: http://pandas.pydata.org/pandas-docs/stable/indexing.html#indexing-view-versus-copy\n",
      "  app.launch_new_instance()\n"
     ]
    },
    {
     "name": "stdout",
     "output_type": "stream",
     "text": [
      "CPU times: user 3min 45s, sys: 53.3 ms, total: 3min 45s\n",
      "Wall time: 3min 46s\n"
     ]
    }
   ],
   "source": [
    "%%time\n",
    "DAX['Ret_Loop'] = 0.0\n",
    "for i in range(1, len(DAX)):\n",
    "    DAX['Ret_Loop'][i] = np.log(DAX['Close'][i]/DAX['Close'][i-1])"
   ]
  },
  {
   "cell_type": "code",
   "execution_count": 8,
   "metadata": {
    "collapsed": false
   },
   "outputs": [
    {
     "data": {
      "text/plain": [
       "Date\n",
       "2000-01-03    0.000000\n",
       "2000-01-04   -0.024565\n",
       "2000-01-05   -0.012970\n",
       "2000-01-06   -0.004184\n",
       "2000-01-07    0.046182\n",
       "2000-01-10    0.021094\n",
       "2000-01-11   -0.004961\n",
       "2000-01-12    0.003124\n",
       "2000-01-13    0.006225\n",
       "2000-01-14    0.030753\n",
       "2000-01-17    0.011874\n",
       "2000-01-18   -0.026068\n",
       "2000-01-19    0.002672\n",
       "2000-01-20    0.003044\n",
       "2000-01-21   -0.017002\n",
       "2000-01-24   -0.008727\n",
       "2000-01-25   -0.017808\n",
       "2000-01-26    0.023186\n",
       "2000-01-27    0.022243\n",
       "2000-01-28   -0.008389\n",
       "2000-01-31   -0.033235\n",
       "2000-02-01    0.030949\n",
       "2000-02-02    0.017085\n",
       "2000-02-03    0.025102\n",
       "2000-02-04    0.012211\n",
       "2000-02-07   -0.020120\n",
       "2000-02-08    0.034162\n",
       "2000-02-09    0.010440\n",
       "2000-02-10    0.010452\n",
       "2000-02-11   -0.012757\n",
       "                ...   \n",
       "2016-12-12   -0.001199\n",
       "2016-12-13    0.008404\n",
       "2016-12-14   -0.003534\n",
       "2016-12-15    0.010752\n",
       "2016-12-16    0.003303\n",
       "2016-12-19    0.001988\n",
       "2016-12-20    0.003324\n",
       "2016-12-21    0.000340\n",
       "2016-12-22   -0.001094\n",
       "2016-12-23   -0.000539\n",
       "2016-12-27    0.001947\n",
       "2016-12-28    0.000240\n",
       "2016-12-29   -0.002088\n",
       "2016-12-30    0.002617\n",
       "2017-01-02    0.010162\n",
       "2017-01-03   -0.001216\n",
       "2017-01-04    0.000006\n",
       "2017-01-05    0.000054\n",
       "2017-01-06    0.001214\n",
       "2017-01-09   -0.003024\n",
       "2017-01-10    0.001668\n",
       "2017-01-11    0.005413\n",
       "2017-01-12   -0.010802\n",
       "2017-01-13    0.009342\n",
       "2017-01-16   -0.006424\n",
       "2017-01-17   -0.001274\n",
       "2017-01-18    0.005133\n",
       "2017-01-19   -0.000216\n",
       "2017-01-20    0.002862\n",
       "2017-01-23   -0.007282\n",
       "Name: Ret_Loop, dtype: float64"
      ]
     },
     "execution_count": 8,
     "metadata": {},
     "output_type": "execute_result"
    }
   ],
   "source": [
    "DAX['Ret_Loop']"
   ]
  },
  {
   "cell_type": "code",
   "execution_count": 10,
   "metadata": {
    "collapsed": false
   },
   "outputs": [
    {
     "name": "stdout",
     "output_type": "stream",
     "text": [
      "CPU times: user 3.33 ms, sys: 0 ns, total: 3.33 ms\n",
      "Wall time: 2.02 ms\n"
     ]
    }
   ],
   "source": [
    "%time DAX['Return'] = np.log(DAX['Close']/DAX['Close'].shift(1))"
   ]
  },
  {
   "cell_type": "code",
   "execution_count": 11,
   "metadata": {
    "collapsed": false
   },
   "outputs": [
    {
     "data": {
      "text/html": [
       "<div>\n",
       "<table border=\"1\" class=\"dataframe\">\n",
       "  <thead>\n",
       "    <tr style=\"text-align: right;\">\n",
       "      <th></th>\n",
       "      <th>Close</th>\n",
       "      <th>Ret_Loop</th>\n",
       "      <th>Return</th>\n",
       "    </tr>\n",
       "    <tr>\n",
       "      <th>Date</th>\n",
       "      <th></th>\n",
       "      <th></th>\n",
       "      <th></th>\n",
       "    </tr>\n",
       "  </thead>\n",
       "  <tbody>\n",
       "    <tr>\n",
       "      <th>2017-01-17</th>\n",
       "      <td>11540.000000</td>\n",
       "      <td>-0.001274</td>\n",
       "      <td>-0.001274</td>\n",
       "    </tr>\n",
       "    <tr>\n",
       "      <th>2017-01-18</th>\n",
       "      <td>11599.389648</td>\n",
       "      <td>0.005133</td>\n",
       "      <td>0.005133</td>\n",
       "    </tr>\n",
       "    <tr>\n",
       "      <th>2017-01-19</th>\n",
       "      <td>11596.889648</td>\n",
       "      <td>-0.000216</td>\n",
       "      <td>-0.000216</td>\n",
       "    </tr>\n",
       "    <tr>\n",
       "      <th>2017-01-20</th>\n",
       "      <td>11630.129883</td>\n",
       "      <td>0.002862</td>\n",
       "      <td>0.002862</td>\n",
       "    </tr>\n",
       "    <tr>\n",
       "      <th>2017-01-23</th>\n",
       "      <td>11545.750000</td>\n",
       "      <td>-0.007282</td>\n",
       "      <td>-0.007282</td>\n",
       "    </tr>\n",
       "  </tbody>\n",
       "</table>\n",
       "</div>"
      ],
      "text/plain": [
       "                   Close  Ret_Loop    Return\n",
       "Date                                        \n",
       "2017-01-17  11540.000000 -0.001274 -0.001274\n",
       "2017-01-18  11599.389648  0.005133  0.005133\n",
       "2017-01-19  11596.889648 -0.000216 -0.000216\n",
       "2017-01-20  11630.129883  0.002862  0.002862\n",
       "2017-01-23  11545.750000 -0.007282 -0.007282"
      ]
     },
     "execution_count": 11,
     "metadata": {},
     "output_type": "execute_result"
    }
   ],
   "source": [
    "DAX[['Close','Ret_Loop','Return']].tail()"
   ]
  }
 ],
 "metadata": {
  "anaconda-cloud": {},
  "kernelspec": {
   "display_name": "Python [conda root]",
   "language": "python",
   "name": "conda-root-py"
  },
  "language_info": {
   "codemirror_mode": {
    "name": "ipython",
    "version": 2
   },
   "file_extension": ".py",
   "mimetype": "text/x-python",
   "name": "python",
   "nbconvert_exporter": "python",
   "pygments_lexer": "ipython2",
   "version": "2.7.12"
  }
 },
 "nbformat": 4,
 "nbformat_minor": 1
}
