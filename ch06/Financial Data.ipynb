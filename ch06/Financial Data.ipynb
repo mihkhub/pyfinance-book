{
 "cells": [
  {
   "cell_type": "code",
   "execution_count": 1,
   "metadata": {
    "collapsed": false
   },
   "outputs": [
    {
     "name": "stderr",
     "output_type": "stream",
     "text": [
      "/home/atqs/anaconda2/lib/python2.7/site-packages/pandas/io/data.py:35: FutureWarning: \n",
      "The pandas.io.data module is moved to a separate package (pandas-datareader) and will be removed from pandas in a future version.\n",
      "After installing the pandas-datareader package (https://github.com/pydata/pandas-datareader), you can change the import ``from pandas.io import data, wb`` to ``from pandas_datareader import data, wb``.\n",
      "  FutureWarning)\n",
      "/home/atqs/anaconda2/lib/python2.7/site-packages/matplotlib/font_manager.py:273: UserWarning: Matplotlib is building the font cache using fc-list. This may take a moment.\n",
      "  warnings.warn('Matplotlib is building the font cache using fc-list. This may take a moment.')\n"
     ]
    }
   ],
   "source": [
    " # At the time of this, pandas supports the following data sources:\n",
    "# Google Finance (google)\n",
    "# St. Louis FED (fred)\n",
    "# Kenneth French's data library (famafrench)\n",
    "# World Bank (via pandas.io.wb)\n",
    "import pandas.io.data as web\n",
    "import numpy as np\n",
    "# Notice\n",
    "%matplotlib inline "
   ]
  },
  {
   "cell_type": "code",
   "execution_count": 2,
   "metadata": {
    "collapsed": false
   },
   "outputs": [],
   "source": [
    "DAX = web.DataReader(name='^GDAXI', data_source='yahoo', start='2000-1-1')"
   ]
  },
  {
   "cell_type": "code",
   "execution_count": null,
   "metadata": {
    "collapsed": false
   },
   "outputs": [
    {
     "name": "stdout",
     "output_type": "stream",
     "text": [
      "<class 'pandas.core.frame.DataFrame'>\n",
      "DatetimeIndex: 4348 entries, 2000-01-03 to 2017-01-24\n",
      "Data columns (total 6 columns):\n",
      "Open         4348 non-null float64\n",
      "High         4348 non-null float64\n",
      "Low          4348 non-null float64\n",
      "Close        4348 non-null float64\n",
      "Volume       4348 non-null int64\n",
      "Adj Close    4348 non-null float64\n",
      "dtypes: float64(5), int64(1)\n",
      "memory usage: 237.8 KB\n"
     ]
    }
   ],
   "source": [
    "DAX.info()"
   ]
  },
  {
   "cell_type": "code",
   "execution_count": null,
   "metadata": {
    "collapsed": false
   },
   "outputs": [
    {
     "data": {
      "text/html": [
       "<div>\n",
       "<table border=\"1\" class=\"dataframe\">\n",
       "  <thead>\n",
       "    <tr style=\"text-align: right;\">\n",
       "      <th></th>\n",
       "      <th>Open</th>\n",
       "      <th>High</th>\n",
       "      <th>Low</th>\n",
       "      <th>Close</th>\n",
       "      <th>Volume</th>\n",
       "      <th>Adj Close</th>\n",
       "    </tr>\n",
       "    <tr>\n",
       "      <th>Date</th>\n",
       "      <th></th>\n",
       "      <th></th>\n",
       "      <th></th>\n",
       "      <th></th>\n",
       "      <th></th>\n",
       "      <th></th>\n",
       "    </tr>\n",
       "  </thead>\n",
       "  <tbody>\n",
       "    <tr>\n",
       "      <th>2017-01-18</th>\n",
       "      <td>11592.120117</td>\n",
       "      <td>11599.389648</td>\n",
       "      <td>11529.759766</td>\n",
       "      <td>11599.389648</td>\n",
       "      <td>79838900</td>\n",
       "      <td>11599.389648</td>\n",
       "    </tr>\n",
       "    <tr>\n",
       "      <th>2017-01-19</th>\n",
       "      <td>11624.110352</td>\n",
       "      <td>11644.879883</td>\n",
       "      <td>11578.910156</td>\n",
       "      <td>11596.889648</td>\n",
       "      <td>89132300</td>\n",
       "      <td>11596.889648</td>\n",
       "    </tr>\n",
       "    <tr>\n",
       "      <th>2017-01-20</th>\n",
       "      <td>11568.900391</td>\n",
       "      <td>11636.790039</td>\n",
       "      <td>11547.040039</td>\n",
       "      <td>11630.129883</td>\n",
       "      <td>0</td>\n",
       "      <td>11630.129883</td>\n",
       "    </tr>\n",
       "    <tr>\n",
       "      <th>2017-01-23</th>\n",
       "      <td>11545.969727</td>\n",
       "      <td>11605.290039</td>\n",
       "      <td>11508.830078</td>\n",
       "      <td>11545.750000</td>\n",
       "      <td>77901600</td>\n",
       "      <td>11545.750000</td>\n",
       "    </tr>\n",
       "    <tr>\n",
       "      <th>2017-01-24</th>\n",
       "      <td>11554.799805</td>\n",
       "      <td>11596.179688</td>\n",
       "      <td>11538.049805</td>\n",
       "      <td>11594.940430</td>\n",
       "      <td>79231000</td>\n",
       "      <td>11594.940430</td>\n",
       "    </tr>\n",
       "  </tbody>\n",
       "</table>\n",
       "</div>"
      ],
      "text/plain": [
       "                    Open          High           Low         Close    Volume  \\\n",
       "Date                                                                           \n",
       "2017-01-18  11592.120117  11599.389648  11529.759766  11599.389648  79838900   \n",
       "2017-01-19  11624.110352  11644.879883  11578.910156  11596.889648  89132300   \n",
       "2017-01-20  11568.900391  11636.790039  11547.040039  11630.129883         0   \n",
       "2017-01-23  11545.969727  11605.290039  11508.830078  11545.750000  77901600   \n",
       "2017-01-24  11554.799805  11596.179688  11538.049805  11594.940430  79231000   \n",
       "\n",
       "               Adj Close  \n",
       "Date                      \n",
       "2017-01-18  11599.389648  \n",
       "2017-01-19  11596.889648  \n",
       "2017-01-20  11630.129883  \n",
       "2017-01-23  11545.750000  \n",
       "2017-01-24  11594.940430  "
      ]
     },
     "execution_count": 4,
     "metadata": {},
     "output_type": "execute_result"
    }
   ],
   "source": [
    "DAX.tail()"
   ]
  },
  {
   "cell_type": "code",
   "execution_count": null,
   "metadata": {
    "collapsed": false,
    "scrolled": true
   },
   "outputs": [],
   "source": [
    "DAX['Close'].plot(figsize=(8,5))"
   ]
  },
  {
   "cell_type": "code",
   "execution_count": null,
   "metadata": {
    "collapsed": false
   },
   "outputs": [],
   "source": [
    "%%time\n",
    "DAX['Ret_Loop'] = 0.0\n",
    "for i in range(1, len(DAX)):\n",
    "    DAX['Ret_Loop'][i] = np.log(DAX['Close'][i]/DAX['Close'][i-1])"
   ]
  },
  {
   "cell_type": "code",
   "execution_count": null,
   "metadata": {
    "collapsed": false
   },
   "outputs": [],
   "source": [
    "DAX['Ret_Loop']"
   ]
  },
  {
   "cell_type": "code",
   "execution_count": null,
   "metadata": {
    "collapsed": false
   },
   "outputs": [],
   "source": [
    "%time DAX['Return'] = np.log(DAX['Close']/DAX['Close'].shift(1))"
   ]
  },
  {
   "cell_type": "code",
   "execution_count": null,
   "metadata": {
    "collapsed": false
   },
   "outputs": [],
   "source": [
    "DAX[['Close','Ret_Loop','Return']].tail()"
   ]
  }
 ],
 "metadata": {
  "anaconda-cloud": {},
  "kernelspec": {
   "display_name": "Python [conda root]",
   "language": "python",
   "name": "conda-root-py"
  },
  "language_info": {
   "codemirror_mode": {
    "name": "ipython",
    "version": 2
   },
   "file_extension": ".py",
   "mimetype": "text/x-python",
   "name": "python",
   "nbconvert_exporter": "python",
   "pygments_lexer": "ipython2",
   "version": "2.7.12"
  }
 },
 "nbformat": 4,
 "nbformat_minor": 1
}
