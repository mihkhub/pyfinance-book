{
 "cells": [
  {
   "cell_type": "code",
   "execution_count": 7,
   "metadata": {
    "collapsed": true
   },
   "outputs": [],
   "source": [
    "import numpy as np\n",
    "import pandas as pd\n",
    "path = '/home/atqs/jupyter/data/'"
   ]
  },
  {
   "cell_type": "code",
   "execution_count": 2,
   "metadata": {
    "collapsed": true
   },
   "outputs": [],
   "source": [
    "rows = 5000\n",
    "a = np.random.standard_normal((rows, 5)) # dummy data"
   ]
  },
  {
   "cell_type": "code",
   "execution_count": 3,
   "metadata": {
    "collapsed": false
   },
   "outputs": [
    {
     "data": {
      "text/plain": [
       "array([[ 1.6363, -0.2847, -0.7317, -2.2493,  1.3853],\n",
       "       [ 0.816 ,  0.9803,  1.1205,  0.1034,  1.3455],\n",
       "       [-2.272 , -1.6175,  0.4363, -0.0507,  0.0352],\n",
       "       ..., \n",
       "       [ 0.7175, -1.4097,  0.3849,  0.1855,  0.4602],\n",
       "       [-0.8026,  0.3529, -2.3728,  0.2348, -0.7658],\n",
       "       [ 2.0134,  0.1   ,  0.2292, -0.1546,  0.2664]])"
      ]
     },
     "execution_count": 3,
     "metadata": {},
     "output_type": "execute_result"
    }
   ],
   "source": [
    "a.round(4)"
   ]
  },
  {
   "cell_type": "code",
   "execution_count": 5,
   "metadata": {
    "collapsed": true
   },
   "outputs": [],
   "source": [
    "t = pd.date_range(start='2016/1/1', periods=rows, freq='H')\n",
    "# set of hourly datetime objects"
   ]
  },
  {
   "cell_type": "code",
   "execution_count": 6,
   "metadata": {
    "collapsed": false
   },
   "outputs": [
    {
     "data": {
      "text/plain": [
       "DatetimeIndex(['2016-01-01 00:00:00', '2016-01-01 01:00:00',\n",
       "               '2016-01-01 02:00:00', '2016-01-01 03:00:00',\n",
       "               '2016-01-01 04:00:00', '2016-01-01 05:00:00',\n",
       "               '2016-01-01 06:00:00', '2016-01-01 07:00:00',\n",
       "               '2016-01-01 08:00:00', '2016-01-01 09:00:00',\n",
       "               ...\n",
       "               '2016-07-26 22:00:00', '2016-07-26 23:00:00',\n",
       "               '2016-07-27 00:00:00', '2016-07-27 01:00:00',\n",
       "               '2016-07-27 02:00:00', '2016-07-27 03:00:00',\n",
       "               '2016-07-27 04:00:00', '2016-07-27 05:00:00',\n",
       "               '2016-07-27 06:00:00', '2016-07-27 07:00:00'],\n",
       "              dtype='datetime64[ns]', length=5000, freq='H')"
      ]
     },
     "execution_count": 6,
     "metadata": {},
     "output_type": "execute_result"
    }
   ],
   "source": [
    "t"
   ]
  },
  {
   "cell_type": "code",
   "execution_count": 9,
   "metadata": {
    "collapsed": false
   },
   "outputs": [],
   "source": [
    "#Two write the data, we need to open a new file object on disk:\n",
    "csv_file = open(path + 'data.csv','w') # open fiel for writing"
   ]
  },
  {
   "cell_type": "code",
   "execution_count": 10,
   "metadata": {
    "collapsed": true
   },
   "outputs": [],
   "source": [
    "header = 'date, no1, no2, no3, no4 no5\\n'"
   ]
  },
  {
   "cell_type": "code",
   "execution_count": 11,
   "metadata": {
    "collapsed": true
   },
   "outputs": [],
   "source": [
    "csv_file.write(header)"
   ]
  },
  {
   "cell_type": "code",
   "execution_count": 13,
   "metadata": {
    "collapsed": false
   },
   "outputs": [],
   "source": [
    "for t_, (no1, no2,no3, no4, no5) in zip(t, a):\n",
    "    s = '%s, %f, %f, %f ,%f, %f\\n' % (t_, no1,no2, no3, no4, no5)\n",
    "    csv_file.write(s)\n",
    "csv_file.close()"
   ]
  },
  {
   "cell_type": "code",
   "execution_count": 14,
   "metadata": {
    "collapsed": false
   },
   "outputs": [
    {
     "name": "stdout",
     "output_type": "stream",
     "text": [
      "-rw-rw-r-- 1 atqs   362490 Jan 25 10:34 /home/atqs/jupyter/data/data.csv\r\n",
      "-rw-rw-r-- 1 atqs 20971440 Jan 25 10:23 /home/atqs/jupyter/data/data.pkl\r\n"
     ]
    }
   ],
   "source": [
    "ll $path*"
   ]
  },
  {
   "cell_type": "code",
   "execution_count": null,
   "metadata": {
    "collapsed": true
   },
   "outputs": [],
   "source": []
  }
 ],
 "metadata": {
  "anaconda-cloud": {},
  "kernelspec": {
   "display_name": "Python [conda root]",
   "language": "python",
   "name": "conda-root-py"
  },
  "language_info": {
   "codemirror_mode": {
    "name": "ipython",
    "version": 2
   },
   "file_extension": ".py",
   "mimetype": "text/x-python",
   "name": "python",
   "nbconvert_exporter": "python",
   "pygments_lexer": "ipython2",
   "version": "2.7.12"
  }
 },
 "nbformat": 4,
 "nbformat_minor": 1
}
